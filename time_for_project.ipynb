{
 "cells": [
  {
   "cell_type": "code",
   "execution_count": 45,
   "metadata": {
    "collapsed": true
   },
   "outputs": [],
   "source": [
    "import os\n",
    "import time\n",
    "from flask import Flask, jsonify"
   ]
  },
  {
   "cell_type": "code",
   "execution_count": 78,
   "metadata": {},
   "outputs": [],
   "source": [
    "app = Flask(__name__)\n",
    "\n",
    "#-----------------------------------\n",
    "#  The following code is invoked when the path portion of the URL matches \n",
    "#         /determineTime/42/determineTime/yyyy\n",
    "#   \"yyyy\" is passed as the value of the input parameter.\n",
    "#\n",
    "@app.route('/determineTime/<remainderOfUrl>')\n",
    "def determineTime(remainderOfUrl):\n",
    "    timezone = int(remainderOfUrl)\n",
    "    #time utc and current\n",
    "    utime = time.gmtime()\n",
    "    ctime = time.localtime()\n",
    "    #find current time off input\n",
    "    utc_hour = int(time.strftime(\"%H\", utime))\n",
    "    utc_min = time.strftime(\"%M\", utime)\n",
    "    c_hour = int(time.strftime(\"%H\", ctime))\n",
    "    c_min = time.strftime(\"%M\" , ctime)\n",
    "    c_hour = (utc_hour + timezone)\n",
    "    #check if am or pm\n",
    "    if (c_hour < 0):\n",
    "        c_hour = c_hour + 24\n",
    "    if (c_hour >= 24):\n",
    "        c_hour = c_hour - 24  \n",
    "    localt = str(c_hour)+\":\"+c_min\n",
    "    currentTime = str(c_hour)+\":\"+utc_min\n",
    "    #check bounded timezones\n",
    "    if(timezone <= 12 and timezone >= -12):\n",
    "        if (timezone == -6):\n",
    "            mess2 = (\"The Current Auburn, Alabama Time is: \" + str(currentTime))\n",
    "            return mess2\n",
    "        mess1 = (str(currentTime))\n",
    "        return mess1\n",
    "    \n",
    "    else: \n",
    "        mess4 = (\"Error\")\n",
    "        return mess4"
   ]
  },
  {
   "cell_type": "code",
   "execution_count": 81,
   "metadata": {
    "scrolled": true
   },
   "outputs": [
    {
     "name": "stdout",
     "output_type": "stream",
     "text": [
      "-3\n"
     ]
    },
    {
     "data": {
      "text/plain": [
       "'21:39'"
      ]
     },
     "execution_count": 81,
     "metadata": {},
     "output_type": "execute_result"
    }
   ],
   "source": [
    "determineTime(-8)"
   ]
  },
  {
   "cell_type": "code",
   "execution_count": 77,
   "metadata": {},
   "outputs": [
    {
     "name": "stdout",
     "output_type": "stream",
     "text": [
      "5\n",
      "-1\n",
      "23\n"
     ]
    }
   ],
   "source": [
    "timezone = -6\n",
    "#time utc and current\n",
    "utime = time.gmtime()\n",
    "ctime = time.localtime()\n",
    "#find current time off input\n",
    "utc_hour = int(time.strftime(\"%H\", utime))\n",
    "utc_min = time.strftime(\"%M\", utime)\n",
    "c_hour = int(time.strftime(\"%H\", ctime))\n",
    "c_min = time.strftime(\"%M\" , ctime)\n",
    "c_hour = (utc_hour + timezone)\n",
    "print utc_hour\n",
    "print c_hour\n",
    "#check if am or pm\n",
    "if (c_hour < 0):\n",
    "    c_hour = c_hour + 24\n",
    "if (c_hour >= 24):\n",
    "    c_hour = c_hour - 24  \n",
    "print c_hour   "
   ]
  },
  {
   "cell_type": "code",
   "execution_count": 4,
   "metadata": {},
   "outputs": [
    {
     "name": "stderr",
     "output_type": "stream",
     "text": [
      " * Running on http://0.0.0.0:5000/ (Press CTRL+C to quit)\n"
     ]
    }
   ],
   "source": [
    "port = os.getenv('PORT', '5000')\n",
    "if __name__ == \"__main__\":\n",
    "    app.run(host='0.0.0.0', port=int(port))\n",
    "\n"
   ]
  },
  {
   "cell_type": "code",
   "execution_count": null,
   "metadata": {
    "collapsed": true
   },
   "outputs": [],
   "source": []
  }
 ],
 "metadata": {
  "kernelspec": {
   "display_name": "Python 2",
   "language": "python",
   "name": "python2"
  },
  "language_info": {
   "codemirror_mode": {
    "name": "ipython",
    "version": 2
   },
   "file_extension": ".py",
   "mimetype": "text/x-python",
   "name": "python",
   "nbconvert_exporter": "python",
   "pygments_lexer": "ipython2",
   "version": "2.7.13"
  }
 },
 "nbformat": 4,
 "nbformat_minor": 2
}
